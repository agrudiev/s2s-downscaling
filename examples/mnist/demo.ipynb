{
  "cells": [
    {
      "cell_type": "markdown",
      "metadata": {
        "id": "QIW-If53CiPL"
      },
      "source": [
        "## Installation"
      ]
    },
    {
      "cell_type": "code",
      "execution_count": 1,
      "metadata": {
        "id": "czOvyn7HCbgV"
      },
      "outputs": [
        {
          "name": "stdout",
          "output_type": "stream",
          "text": [
            "Collecting git+https://github.com/maumlima/swirl-dynamics.git@main\n",
            "  Cloning https://github.com/maumlima/swirl-dynamics.git (to revision main) to /tmp/50628383/pip-req-build-ebby8r6i\n",
            "  Running command git clone --filter=blob:none --quiet https://github.com/maumlima/swirl-dynamics.git /tmp/50628383/pip-req-build-ebby8r6i\n",
            "  Resolved https://github.com/maumlima/swirl-dynamics.git to commit d5f9a052e418195d2eb73e6392ef1dd19bfefd65\n",
            "  Installing build dependencies ... \u001b[?25ldone\n",
            "\u001b[?25h  Getting requirements to build wheel ... \u001b[?25ldone\n",
            "\u001b[?25h  Preparing metadata (pyproject.toml) ... \u001b[?25ldone\n",
            "\u001b[?25hRequirement already satisfied: absl-py in /work/FAC/FGSE/IDYST/tbeucler/downscaling/agrudiev/s2s-downscaling/venv/lib/python3.11/site-packages (from swirl_dynamics==0.0.1) (2.1.0)\n",
            "Requirement already satisfied: chex in /work/FAC/FGSE/IDYST/tbeucler/downscaling/agrudiev/s2s-downscaling/venv/lib/python3.11/site-packages (from swirl_dynamics==0.0.1) (0.1.86)\n",
            "Requirement already satisfied: clu in /work/FAC/FGSE/IDYST/tbeucler/downscaling/agrudiev/s2s-downscaling/venv/lib/python3.11/site-packages (from swirl_dynamics==0.0.1) (0.0.12)\n",
            "Requirement already satisfied: etils in /work/FAC/FGSE/IDYST/tbeucler/downscaling/agrudiev/s2s-downscaling/venv/lib/python3.11/site-packages (from swirl_dynamics==0.0.1) (1.9.2)\n",
            "Requirement already satisfied: flax in /work/FAC/FGSE/IDYST/tbeucler/downscaling/agrudiev/s2s-downscaling/venv/lib/python3.11/site-packages (from swirl_dynamics==0.0.1) (0.8.5)\n",
            "Requirement already satisfied: h5py in /work/FAC/FGSE/IDYST/tbeucler/downscaling/agrudiev/s2s-downscaling/venv/lib/python3.11/site-packages (from swirl_dynamics==0.0.1) (3.11.0)\n",
            "Requirement already satisfied: grain-nightly in /work/FAC/FGSE/IDYST/tbeucler/downscaling/agrudiev/s2s-downscaling/venv/lib/python3.11/site-packages (from swirl_dynamics==0.0.1) (0.0.7)\n",
            "Requirement already satisfied: gin-config in /work/FAC/FGSE/IDYST/tbeucler/downscaling/agrudiev/s2s-downscaling/venv/lib/python3.11/site-packages (from swirl_dynamics==0.0.1) (0.5.0)\n",
            "Requirement already satisfied: jax in /work/FAC/FGSE/IDYST/tbeucler/downscaling/agrudiev/s2s-downscaling/venv/lib/python3.11/site-packages (from swirl_dynamics==0.0.1) (0.4.31)\n",
            "Requirement already satisfied: matplotlib in /work/FAC/FGSE/IDYST/tbeucler/downscaling/agrudiev/s2s-downscaling/venv/lib/python3.11/site-packages (from swirl_dynamics==0.0.1) (3.9.1)\n",
            "Requirement already satisfied: numpy in /work/FAC/FGSE/IDYST/tbeucler/downscaling/agrudiev/s2s-downscaling/venv/lib/python3.11/site-packages (from swirl_dynamics==0.0.1) (1.26.4)\n",
            "Requirement already satisfied: optax in /work/FAC/FGSE/IDYST/tbeucler/downscaling/agrudiev/s2s-downscaling/venv/lib/python3.11/site-packages (from swirl_dynamics==0.0.1) (0.2.3)\n",
            "Requirement already satisfied: orbax-checkpoint in /work/FAC/FGSE/IDYST/tbeucler/downscaling/agrudiev/s2s-downscaling/venv/lib/python3.11/site-packages (from swirl_dynamics==0.0.1) (0.5.23)\n",
            "Requirement already satisfied: tensorflow in /work/FAC/FGSE/IDYST/tbeucler/downscaling/agrudiev/s2s-downscaling/venv/lib/python3.11/site-packages (from swirl_dynamics==0.0.1) (2.17.0)\n",
            "Requirement already satisfied: tqdm in /work/FAC/FGSE/IDYST/tbeucler/downscaling/agrudiev/s2s-downscaling/venv/lib/python3.11/site-packages (from swirl_dynamics==0.0.1) (4.66.4)\n",
            "Requirement already satisfied: xarray in /work/FAC/FGSE/IDYST/tbeucler/downscaling/agrudiev/s2s-downscaling/venv/lib/python3.11/site-packages (from swirl_dynamics==0.0.1) (2024.7.0)\n",
            "Requirement already satisfied: xarray_tensorstore in /work/FAC/FGSE/IDYST/tbeucler/downscaling/agrudiev/s2s-downscaling/venv/lib/python3.11/site-packages (from swirl_dynamics==0.0.1) (0.1.1)\n",
            "Requirement already satisfied: typing-extensions>=4.2.0 in /work/FAC/FGSE/IDYST/tbeucler/downscaling/agrudiev/s2s-downscaling/venv/lib/python3.11/site-packages (from chex->swirl_dynamics==0.0.1) (4.12.2)\n",
            "Requirement already satisfied: jaxlib>=0.1.37 in /work/FAC/FGSE/IDYST/tbeucler/downscaling/agrudiev/s2s-downscaling/venv/lib/python3.11/site-packages (from chex->swirl_dynamics==0.0.1) (0.4.31)\n",
            "Requirement already satisfied: toolz>=0.9.0 in /work/FAC/FGSE/IDYST/tbeucler/downscaling/agrudiev/s2s-downscaling/venv/lib/python3.11/site-packages (from chex->swirl_dynamics==0.0.1) (0.12.1)\n",
            "Requirement already satisfied: ml-dtypes>=0.2.0 in /work/FAC/FGSE/IDYST/tbeucler/downscaling/agrudiev/s2s-downscaling/venv/lib/python3.11/site-packages (from jax->swirl_dynamics==0.0.1) (0.4.0)\n",
            "Requirement already satisfied: opt-einsum in /work/FAC/FGSE/IDYST/tbeucler/downscaling/agrudiev/s2s-downscaling/venv/lib/python3.11/site-packages (from jax->swirl_dynamics==0.0.1) (3.3.0)\n",
            "Requirement already satisfied: scipy>=1.10 in /work/FAC/FGSE/IDYST/tbeucler/downscaling/agrudiev/s2s-downscaling/venv/lib/python3.11/site-packages (from jax->swirl_dynamics==0.0.1) (1.14.0)\n",
            "Requirement already satisfied: ml-collections in /work/FAC/FGSE/IDYST/tbeucler/downscaling/agrudiev/s2s-downscaling/venv/lib/python3.11/site-packages (from clu->swirl_dynamics==0.0.1) (0.1.1)\n",
            "Requirement already satisfied: packaging in /work/FAC/FGSE/IDYST/tbeucler/downscaling/agrudiev/s2s-downscaling/venv/lib/python3.11/site-packages (from clu->swirl_dynamics==0.0.1) (24.1)\n",
            "Requirement already satisfied: wrapt in /work/FAC/FGSE/IDYST/tbeucler/downscaling/agrudiev/s2s-downscaling/venv/lib/python3.11/site-packages (from clu->swirl_dynamics==0.0.1) (1.16.0)\n",
            "Requirement already satisfied: msgpack in /work/FAC/FGSE/IDYST/tbeucler/downscaling/agrudiev/s2s-downscaling/venv/lib/python3.11/site-packages (from flax->swirl_dynamics==0.0.1) (1.0.8)\n",
            "Requirement already satisfied: tensorstore in /work/FAC/FGSE/IDYST/tbeucler/downscaling/agrudiev/s2s-downscaling/venv/lib/python3.11/site-packages (from flax->swirl_dynamics==0.0.1) (0.1.64)\n",
            "Requirement already satisfied: rich>=11.1 in /work/FAC/FGSE/IDYST/tbeucler/downscaling/agrudiev/s2s-downscaling/venv/lib/python3.11/site-packages (from flax->swirl_dynamics==0.0.1) (13.7.1)\n",
            "Requirement already satisfied: PyYAML>=5.4.1 in /work/FAC/FGSE/IDYST/tbeucler/downscaling/agrudiev/s2s-downscaling/venv/lib/python3.11/site-packages (from flax->swirl_dynamics==0.0.1) (6.0.1)\n",
            "Requirement already satisfied: array-record in /work/FAC/FGSE/IDYST/tbeucler/downscaling/agrudiev/s2s-downscaling/venv/lib/python3.11/site-packages (from grain-nightly->swirl_dynamics==0.0.1) (0.5.1)\n",
            "Requirement already satisfied: cloudpickle in /work/FAC/FGSE/IDYST/tbeucler/downscaling/agrudiev/s2s-downscaling/venv/lib/python3.11/site-packages (from grain-nightly->swirl_dynamics==0.0.1) (3.0.0)\n",
            "Requirement already satisfied: dm-tree in /work/FAC/FGSE/IDYST/tbeucler/downscaling/agrudiev/s2s-downscaling/venv/lib/python3.11/site-packages (from grain-nightly->swirl_dynamics==0.0.1) (0.1.8)\n",
            "Requirement already satisfied: jaxtyping in /work/FAC/FGSE/IDYST/tbeucler/downscaling/agrudiev/s2s-downscaling/venv/lib/python3.11/site-packages (from grain-nightly->swirl_dynamics==0.0.1) (0.2.33)\n",
            "Requirement already satisfied: more-itertools>=9.1.0 in /work/FAC/FGSE/IDYST/tbeucler/downscaling/agrudiev/s2s-downscaling/venv/lib/python3.11/site-packages (from grain-nightly->swirl_dynamics==0.0.1) (10.3.0)\n",
            "Requirement already satisfied: contourpy>=1.0.1 in /work/FAC/FGSE/IDYST/tbeucler/downscaling/agrudiev/s2s-downscaling/venv/lib/python3.11/site-packages (from matplotlib->swirl_dynamics==0.0.1) (1.2.1)\n",
            "Requirement already satisfied: cycler>=0.10 in /work/FAC/FGSE/IDYST/tbeucler/downscaling/agrudiev/s2s-downscaling/venv/lib/python3.11/site-packages (from matplotlib->swirl_dynamics==0.0.1) (0.12.1)\n",
            "Requirement already satisfied: fonttools>=4.22.0 in /work/FAC/FGSE/IDYST/tbeucler/downscaling/agrudiev/s2s-downscaling/venv/lib/python3.11/site-packages (from matplotlib->swirl_dynamics==0.0.1) (4.53.1)\n",
            "Requirement already satisfied: kiwisolver>=1.3.1 in /work/FAC/FGSE/IDYST/tbeucler/downscaling/agrudiev/s2s-downscaling/venv/lib/python3.11/site-packages (from matplotlib->swirl_dynamics==0.0.1) (1.4.5)\n",
            "Requirement already satisfied: pillow>=8 in /work/FAC/FGSE/IDYST/tbeucler/downscaling/agrudiev/s2s-downscaling/venv/lib/python3.11/site-packages (from matplotlib->swirl_dynamics==0.0.1) (10.4.0)\n",
            "Requirement already satisfied: pyparsing>=2.3.1 in /work/FAC/FGSE/IDYST/tbeucler/downscaling/agrudiev/s2s-downscaling/venv/lib/python3.11/site-packages (from matplotlib->swirl_dynamics==0.0.1) (3.1.2)\n",
            "Requirement already satisfied: python-dateutil>=2.7 in /work/FAC/FGSE/IDYST/tbeucler/downscaling/agrudiev/s2s-downscaling/venv/lib/python3.11/site-packages (from matplotlib->swirl_dynamics==0.0.1) (2.9.0.post0)\n",
            "Requirement already satisfied: nest_asyncio in /work/FAC/FGSE/IDYST/tbeucler/downscaling/agrudiev/s2s-downscaling/venv/lib/python3.11/site-packages (from orbax-checkpoint->swirl_dynamics==0.0.1) (1.6.0)\n",
            "Requirement already satisfied: protobuf in /work/FAC/FGSE/IDYST/tbeucler/downscaling/agrudiev/s2s-downscaling/venv/lib/python3.11/site-packages (from orbax-checkpoint->swirl_dynamics==0.0.1) (4.25.4)\n",
            "Requirement already satisfied: astunparse>=1.6.0 in /work/FAC/FGSE/IDYST/tbeucler/downscaling/agrudiev/s2s-downscaling/venv/lib/python3.11/site-packages (from tensorflow->swirl_dynamics==0.0.1) (1.6.3)\n",
            "Requirement already satisfied: flatbuffers>=24.3.25 in /work/FAC/FGSE/IDYST/tbeucler/downscaling/agrudiev/s2s-downscaling/venv/lib/python3.11/site-packages (from tensorflow->swirl_dynamics==0.0.1) (24.3.25)\n",
            "Requirement already satisfied: gast!=0.5.0,!=0.5.1,!=0.5.2,>=0.2.1 in /work/FAC/FGSE/IDYST/tbeucler/downscaling/agrudiev/s2s-downscaling/venv/lib/python3.11/site-packages (from tensorflow->swirl_dynamics==0.0.1) (0.6.0)\n",
            "Requirement already satisfied: google-pasta>=0.1.1 in /work/FAC/FGSE/IDYST/tbeucler/downscaling/agrudiev/s2s-downscaling/venv/lib/python3.11/site-packages (from tensorflow->swirl_dynamics==0.0.1) (0.2.0)\n",
            "Requirement already satisfied: libclang>=13.0.0 in /work/FAC/FGSE/IDYST/tbeucler/downscaling/agrudiev/s2s-downscaling/venv/lib/python3.11/site-packages (from tensorflow->swirl_dynamics==0.0.1) (18.1.1)\n",
            "Requirement already satisfied: requests<3,>=2.21.0 in /work/FAC/FGSE/IDYST/tbeucler/downscaling/agrudiev/s2s-downscaling/venv/lib/python3.11/site-packages (from tensorflow->swirl_dynamics==0.0.1) (2.32.3)\n",
            "Requirement already satisfied: setuptools in /work/FAC/FGSE/IDYST/tbeucler/downscaling/agrudiev/s2s-downscaling/venv/lib/python3.11/site-packages (from tensorflow->swirl_dynamics==0.0.1) (65.5.0)\n",
            "Requirement already satisfied: six>=1.12.0 in /work/FAC/FGSE/IDYST/tbeucler/downscaling/agrudiev/s2s-downscaling/venv/lib/python3.11/site-packages (from tensorflow->swirl_dynamics==0.0.1) (1.16.0)\n",
            "Requirement already satisfied: termcolor>=1.1.0 in /work/FAC/FGSE/IDYST/tbeucler/downscaling/agrudiev/s2s-downscaling/venv/lib/python3.11/site-packages (from tensorflow->swirl_dynamics==0.0.1) (2.4.0)\n",
            "Requirement already satisfied: grpcio<2.0,>=1.24.3 in /work/FAC/FGSE/IDYST/tbeucler/downscaling/agrudiev/s2s-downscaling/venv/lib/python3.11/site-packages (from tensorflow->swirl_dynamics==0.0.1) (1.65.2)\n",
            "Requirement already satisfied: tensorboard<2.18,>=2.17 in /work/FAC/FGSE/IDYST/tbeucler/downscaling/agrudiev/s2s-downscaling/venv/lib/python3.11/site-packages (from tensorflow->swirl_dynamics==0.0.1) (2.17.0)\n",
            "Requirement already satisfied: keras>=3.2.0 in /work/FAC/FGSE/IDYST/tbeucler/downscaling/agrudiev/s2s-downscaling/venv/lib/python3.11/site-packages (from tensorflow->swirl_dynamics==0.0.1) (3.4.1)\n",
            "Requirement already satisfied: tensorflow-io-gcs-filesystem>=0.23.1 in /work/FAC/FGSE/IDYST/tbeucler/downscaling/agrudiev/s2s-downscaling/venv/lib/python3.11/site-packages (from tensorflow->swirl_dynamics==0.0.1) (0.37.1)\n",
            "Requirement already satisfied: pandas>=2.0 in /work/FAC/FGSE/IDYST/tbeucler/downscaling/agrudiev/s2s-downscaling/venv/lib/python3.11/site-packages (from xarray->swirl_dynamics==0.0.1) (2.2.2)\n",
            "Requirement already satisfied: zarr in /work/FAC/FGSE/IDYST/tbeucler/downscaling/agrudiev/s2s-downscaling/venv/lib/python3.11/site-packages (from xarray_tensorstore->swirl_dynamics==0.0.1) (2.18.2)\n",
            "Requirement already satisfied: wheel<1.0,>=0.23.0 in /work/FAC/FGSE/IDYST/tbeucler/downscaling/agrudiev/s2s-downscaling/venv/lib/python3.11/site-packages (from astunparse>=1.6.0->tensorflow->swirl_dynamics==0.0.1) (0.45.1)\n",
            "Requirement already satisfied: namex in /work/FAC/FGSE/IDYST/tbeucler/downscaling/agrudiev/s2s-downscaling/venv/lib/python3.11/site-packages (from keras>=3.2.0->tensorflow->swirl_dynamics==0.0.1) (0.0.8)\n",
            "Requirement already satisfied: optree in /work/FAC/FGSE/IDYST/tbeucler/downscaling/agrudiev/s2s-downscaling/venv/lib/python3.11/site-packages (from keras>=3.2.0->tensorflow->swirl_dynamics==0.0.1) (0.12.1)\n",
            "Requirement already satisfied: pytz>=2020.1 in /work/FAC/FGSE/IDYST/tbeucler/downscaling/agrudiev/s2s-downscaling/venv/lib/python3.11/site-packages (from pandas>=2.0->xarray->swirl_dynamics==0.0.1) (2024.1)\n",
            "Requirement already satisfied: tzdata>=2022.7 in /work/FAC/FGSE/IDYST/tbeucler/downscaling/agrudiev/s2s-downscaling/venv/lib/python3.11/site-packages (from pandas>=2.0->xarray->swirl_dynamics==0.0.1) (2024.1)\n",
            "Requirement already satisfied: charset-normalizer<4,>=2 in /work/FAC/FGSE/IDYST/tbeucler/downscaling/agrudiev/s2s-downscaling/venv/lib/python3.11/site-packages (from requests<3,>=2.21.0->tensorflow->swirl_dynamics==0.0.1) (3.3.2)\n",
            "Requirement already satisfied: idna<4,>=2.5 in /work/FAC/FGSE/IDYST/tbeucler/downscaling/agrudiev/s2s-downscaling/venv/lib/python3.11/site-packages (from requests<3,>=2.21.0->tensorflow->swirl_dynamics==0.0.1) (3.7)\n",
            "Requirement already satisfied: urllib3<3,>=1.21.1 in /work/FAC/FGSE/IDYST/tbeucler/downscaling/agrudiev/s2s-downscaling/venv/lib/python3.11/site-packages (from requests<3,>=2.21.0->tensorflow->swirl_dynamics==0.0.1) (2.2.2)\n",
            "Requirement already satisfied: certifi>=2017.4.17 in /work/FAC/FGSE/IDYST/tbeucler/downscaling/agrudiev/s2s-downscaling/venv/lib/python3.11/site-packages (from requests<3,>=2.21.0->tensorflow->swirl_dynamics==0.0.1) (2024.7.4)\n",
            "Requirement already satisfied: markdown-it-py>=2.2.0 in /work/FAC/FGSE/IDYST/tbeucler/downscaling/agrudiev/s2s-downscaling/venv/lib/python3.11/site-packages (from rich>=11.1->flax->swirl_dynamics==0.0.1) (3.0.0)\n",
            "Requirement already satisfied: pygments<3.0.0,>=2.13.0 in /work/FAC/FGSE/IDYST/tbeucler/downscaling/agrudiev/s2s-downscaling/venv/lib/python3.11/site-packages (from rich>=11.1->flax->swirl_dynamics==0.0.1) (2.18.0)\n",
            "Requirement already satisfied: markdown>=2.6.8 in /work/FAC/FGSE/IDYST/tbeucler/downscaling/agrudiev/s2s-downscaling/venv/lib/python3.11/site-packages (from tensorboard<2.18,>=2.17->tensorflow->swirl_dynamics==0.0.1) (3.6)\n",
            "Requirement already satisfied: tensorboard-data-server<0.8.0,>=0.7.0 in /work/FAC/FGSE/IDYST/tbeucler/downscaling/agrudiev/s2s-downscaling/venv/lib/python3.11/site-packages (from tensorboard<2.18,>=2.17->tensorflow->swirl_dynamics==0.0.1) (0.7.2)\n",
            "Requirement already satisfied: werkzeug>=1.0.1 in /work/FAC/FGSE/IDYST/tbeucler/downscaling/agrudiev/s2s-downscaling/venv/lib/python3.11/site-packages (from tensorboard<2.18,>=2.17->tensorflow->swirl_dynamics==0.0.1) (3.0.3)\n",
            "Requirement already satisfied: fsspec in /work/FAC/FGSE/IDYST/tbeucler/downscaling/agrudiev/s2s-downscaling/venv/lib/python3.11/site-packages (from etils[epath,epy]->orbax-checkpoint->swirl_dynamics==0.0.1) (2024.6.1)\n",
            "Requirement already satisfied: importlib_resources in /work/FAC/FGSE/IDYST/tbeucler/downscaling/agrudiev/s2s-downscaling/venv/lib/python3.11/site-packages (from etils[epath,epy]->orbax-checkpoint->swirl_dynamics==0.0.1) (6.4.0)\n",
            "Requirement already satisfied: zipp in /work/FAC/FGSE/IDYST/tbeucler/downscaling/agrudiev/s2s-downscaling/venv/lib/python3.11/site-packages (from etils[epath,epy]->orbax-checkpoint->swirl_dynamics==0.0.1) (3.19.2)\n",
            "Requirement already satisfied: typeguard==2.13.3 in /work/FAC/FGSE/IDYST/tbeucler/downscaling/agrudiev/s2s-downscaling/venv/lib/python3.11/site-packages (from jaxtyping->grain-nightly->swirl_dynamics==0.0.1) (2.13.3)\n",
            "Requirement already satisfied: contextlib2 in /work/FAC/FGSE/IDYST/tbeucler/downscaling/agrudiev/s2s-downscaling/venv/lib/python3.11/site-packages (from ml-collections->clu->swirl_dynamics==0.0.1) (21.6.0)\n",
            "Requirement already satisfied: asciitree in /work/FAC/FGSE/IDYST/tbeucler/downscaling/agrudiev/s2s-downscaling/venv/lib/python3.11/site-packages (from zarr->xarray_tensorstore->swirl_dynamics==0.0.1) (0.3.3)\n",
            "Requirement already satisfied: numcodecs>=0.10.0 in /work/FAC/FGSE/IDYST/tbeucler/downscaling/agrudiev/s2s-downscaling/venv/lib/python3.11/site-packages (from zarr->xarray_tensorstore->swirl_dynamics==0.0.1) (0.13.0)\n",
            "Requirement already satisfied: fasteners in /work/FAC/FGSE/IDYST/tbeucler/downscaling/agrudiev/s2s-downscaling/venv/lib/python3.11/site-packages (from zarr->xarray_tensorstore->swirl_dynamics==0.0.1) (0.19)\n",
            "Requirement already satisfied: mdurl~=0.1 in /work/FAC/FGSE/IDYST/tbeucler/downscaling/agrudiev/s2s-downscaling/venv/lib/python3.11/site-packages (from markdown-it-py>=2.2.0->rich>=11.1->flax->swirl_dynamics==0.0.1) (0.1.2)\n",
            "Requirement already satisfied: MarkupSafe>=2.1.1 in /work/FAC/FGSE/IDYST/tbeucler/downscaling/agrudiev/s2s-downscaling/venv/lib/python3.11/site-packages (from werkzeug>=1.0.1->tensorboard<2.18,>=2.17->tensorflow->swirl_dynamics==0.0.1) (2.1.5)\n",
            "\n",
            "\u001b[1m[\u001b[0m\u001b[34;49mnotice\u001b[0m\u001b[1;39;49m]\u001b[0m\u001b[39;49m A new release of pip is available: \u001b[0m\u001b[31;49m25.0\u001b[0m\u001b[39;49m -> \u001b[0m\u001b[32;49m25.0.1\u001b[0m\n",
            "\u001b[1m[\u001b[0m\u001b[34;49mnotice\u001b[0m\u001b[1;39;49m]\u001b[0m\u001b[39;49m To update, run: \u001b[0m\u001b[32;49mpip install --upgrade pip\u001b[0m\n",
            "Note: you may need to restart the kernel to use updated packages.\n"
          ]
        }
      ],
      "source": [
        "pip install git+https://github.com/maumlima/swirl-dynamics.git@main"
      ]
    },
    {
      "cell_type": "markdown",
      "metadata": {
        "id": "JP6GQNwnCrwz"
      },
      "source": [
        "## Imports"
      ]
    },
    {
      "cell_type": "code",
      "execution_count": 2,
      "metadata": {
        "id": "ZDKhSAGaCrk2"
      },
      "outputs": [
        {
          "name": "stderr",
          "output_type": "stream",
          "text": [
            "2025-02-23 18:28:25.214992: E external/local_xla/xla/stream_executor/cuda/cuda_fft.cc:485] Unable to register cuFFT factory: Attempting to register factory for plugin cuFFT when one has already been registered\n",
            "2025-02-23 18:28:25.637568: E external/local_xla/xla/stream_executor/cuda/cuda_dnn.cc:8454] Unable to register cuDNN factory: Attempting to register factory for plugin cuDNN when one has already been registered\n",
            "2025-02-23 18:28:25.813210: E external/local_xla/xla/stream_executor/cuda/cuda_blas.cc:1452] Unable to register cuBLAS factory: Attempting to register factory for plugin cuBLAS when one has already been registered\n",
            "2025-02-23 18:28:36.213938: W tensorflow/compiler/tf2tensorrt/utils/py_utils.cc:38] TF-TRT Warning: Could not find TensorRT\n",
            "/work/FAC/FGSE/IDYST/tbeucler/downscaling/agrudiev/s2s-downscaling/venv/lib/python3.11/site-packages/tqdm/auto.py:21: TqdmWarning: IProgress not found. Please update jupyter and ipywidgets. See https://ipywidgets.readthedocs.io/en/stable/user_install.html\n",
            "  from .autonotebook import tqdm as notebook_tqdm\n"
          ]
        }
      ],
      "source": [
        "import os, functools\n",
        "\n",
        "from clu import metric_writers\n",
        "import jax\n",
        "import jax.numpy as jnp\n",
        "import matplotlib.pyplot as plt\n",
        "import matplotlib.patches as patches\n",
        "import optax\n",
        "import orbax.checkpoint as ocp\n",
        "import tensorflow as tf\n",
        "\n",
        "from swirl_dynamics import templates\n",
        "from swirl_dynamics.lib import diffusion as dfn_lib\n",
        "from swirl_dynamics.lib import solvers as solver_lib\n",
        "from swirl_dynamics.projects import probabilistic_diffusion as dfn\n",
        "from swirl_dynamics.data.hdf5_utils import read_single_array"
      ]
    },
    {
      "cell_type": "markdown",
      "metadata": {
        "id": "0ylBqVdcCvcz"
      },
      "source": [
        "## Example I - Unconditional diffusion model with guidance"
      ]
    },
    {
      "cell_type": "markdown",
      "metadata": {
        "id": "TVzRTpB5Dgm2"
      },
      "source": [
        "### Dataset"
      ]
    },
    {
      "cell_type": "markdown",
      "metadata": {
        "id": "THwrp-2UD2iS"
      },
      "source": [
        "First we need a dataset containing samples whose distribution is to be modeled by the diffusion model. For demonstration purpose, we use the MNIST dataset in hdf5, which can be downloaded at https://www.kaggle.com/datasets/benedictwilkinsai/mnist-hd5f.\n",
        "\n",
        "Our code setup accepts any Python iterable objects to be used as dataloaders. The expectation is that they should continuously yield a dictionary with a field named `x` whose corresponding value is a numpy array with shape `(batch, *spatial_dims, channels)`."
      ]
    },
    {
      "cell_type": "code",
      "execution_count": 3,
      "metadata": {},
      "outputs": [],
      "source": [
        "def get_mnist_dataset(file_path: str, key: str, split:float, batch_size: int):\n",
        "    # Read the dataset from the .hdf5 file.\n",
        "    images = read_single_array(file_path, key)\n",
        "\n",
        "    # Determine the split indices.\n",
        "    num_images = images.shape[0]\n",
        "    if split > 0:\n",
        "        end_idx = int(num_images * split)\n",
        "        images = images[:end_idx]\n",
        "    elif split < 0:\n",
        "        start_idx = int(num_images * (1 + split))\n",
        "        images = images[start_idx:]\n",
        "\n",
        "    # Normalize the images to [0, 1].\n",
        "    images = images.astype(jnp.float32) / 255.0\n",
        "\n",
        "    # Expand dims\n",
        "    images = jnp.expand_dims(images, axis=-1)\n",
        "\n",
        "    # Create a TensorFlow dataset from the images.\n",
        "    ds = tf.data.Dataset.from_tensor_slices({\"x\": images})\n",
        "\n",
        "    # Repeat, batch, and prefetch the dataset.\n",
        "    ds = ds.repeat()\n",
        "    ds = ds.batch(batch_size)\n",
        "    ds = ds.prefetch(tf.data.AUTOTUNE)\n",
        "    ds = ds.as_numpy_iterator()\n",
        "\n",
        "    return ds\n",
        "\n",
        "# The standard deviation of the normalized dataset.\n",
        "# This is useful for determining the diffusion scheme and preconditioning\n",
        "# of the neural network parametrization.\n",
        "DATA_STD = 0.31\n",
        "\n",
        "# Folder where the downloaded dataset is stored\n",
        "mnist_folder = \"/work/FAC/FGSE/IDYST/tbeucler/downscaling/mlima/data/mnist\""
      ]
    },
    {
      "cell_type": "markdown",
      "metadata": {
        "id": "O5tZdk5eEQhh"
      },
      "source": [
        "### Architecture"
      ]
    },
    {
      "cell_type": "markdown",
      "metadata": {
        "id": "vA4hHUeHEVoE"
      },
      "source": [
        "Next let's define the U-Net backbone. The \"Preconditioning\" is to ensure that the inputs and outputs of the network are roughly standardized (for more details, see Appendix B.6. in [this paper](https://arxiv.org/abs/2206.00364))."
      ]
    },
    {
      "cell_type": "code",
      "execution_count": 4,
      "metadata": {
        "id": "HE1-wf7aETEH"
      },
      "outputs": [],
      "source": [
        "denoiser_model = dfn_lib.PreconditionedDenoiserUNet(\n",
        "  out_channels=1,\n",
        "  num_channels=(64, 128),\n",
        "  downsample_ratio=(2, 2),\n",
        "  num_blocks=4,\n",
        "  noise_embed_dim=128,\n",
        "  padding=\"SAME\",\n",
        "  use_attention=True,\n",
        "  use_position_encoding=True,\n",
        "  num_heads=8,\n",
        "  sigma_data=DATA_STD,\n",
        ")"
      ]
    },
    {
      "cell_type": "markdown",
      "metadata": {
        "id": "Htjx7TxAEsKW"
      },
      "source": [
        "### Training"
      ]
    },
    {
      "cell_type": "markdown",
      "metadata": {
        "id": "E5i7oh2WFFU0"
      },
      "source": [
        "For diffusion model training, the above-defined U-Net backbone serves as a denoiser, which takes as input a batch of (isotropic Gaussian noise) corrupted samples and outputs its best guess for what the uncorrupted image would be.\n",
        "\n",
        "Besides the backbone architecture, we also need to specify how to sample the noise levels (i.e. standard deviations) used to corrupt the samples and the weighting for each noise level in the loss function (for available options and configurations, see [`swirl_dynamics.lib.diffusion.diffusion`](https://github.com/google-research/swirl-dynamics/blob/main/swirl_dynamics/lib/diffusion/diffusion.py)):"
      ]
    },
    {
      "cell_type": "code",
      "execution_count": 5,
      "metadata": {
        "id": "l52TFsPEEp5u"
      },
      "outputs": [],
      "source": [
        "diffusion_scheme = dfn_lib.Diffusion.create_variance_exploding(\n",
        "    sigma=dfn_lib.tangent_noise_schedule(),\n",
        "    data_std=DATA_STD,\n",
        ")\n",
        "\n",
        "model = dfn.DenoisingModel(\n",
        "    # `input_shape` must agree with the expected sample shape (without the batch\n",
        "    # dimension), which in this case is simply the dimensions of a single MNIST\n",
        "    # sample.\n",
        "    input_shape=(28, 28, 1),\n",
        "    denoiser=denoiser_model,\n",
        "    noise_sampling=dfn_lib.log_uniform_sampling(\n",
        "        diffusion_scheme, clip_min=1e-4, uniform_grid=True,\n",
        "    ),\n",
        "    noise_weighting=dfn_lib.edm_weighting(data_std=DATA_STD),\n",
        ")"
      ]
    },
    {
      "cell_type": "markdown",
      "metadata": {
        "id": "76a8RhUpFLoe"
      },
      "source": [
        "We are now ready to define the learning parameters."
      ]
    },
    {
      "cell_type": "code",
      "execution_count": 8,
      "metadata": {
        "id": "k8fl_R1gEp36"
      },
      "outputs": [],
      "source": [
        "# !rm -R -f $workdir  # optional: clear the working directory"
      ]
    },
    {
      "cell_type": "code",
      "execution_count": 6,
      "metadata": {
        "id": "-4DAOL_xEp1k"
      },
      "outputs": [],
      "source": [
        "num_train_steps = 100_000  #@param\n",
        "workdir = \"/work/FAC/FGSE/IDYST/tbeucler/downscaling/mlima/s2s-downscaling/examples/mnist\"\n",
        "train_batch_size = 32  #@param\n",
        "eval_batch_size = 32  #@param\n",
        "initial_lr = 0.0  #@param\n",
        "peak_lr = 1e-4  #@param\n",
        "warmup_steps = 1000  #@param\n",
        "end_lr = 1e-6  #@param\n",
        "ema_decay = 0.999  #@param\n",
        "ckpt_interval = 1000  #@param\n",
        "max_ckpt_to_keep = 5  #@param"
      ]
    },
    {
      "cell_type": "markdown",
      "metadata": {
        "id": "Pr-be7CiFRhp"
      },
      "source": [
        "To start training, we first need to initialize the trainer."
      ]
    },
    {
      "cell_type": "code",
      "execution_count": 7,
      "metadata": {
        "id": "g7E4WZUFEpzv"
      },
      "outputs": [],
      "source": [
        "# NOTE: use `trainers.DistributedDenoisingTrainer` for multi-device\n",
        "# training with data parallelism.\n",
        "trainer = dfn.DenoisingTrainer(\n",
        "    model=model,\n",
        "    rng=jax.random.PRNGKey(888),\n",
        "    optimizer=optax.adam(\n",
        "        learning_rate=optax.warmup_cosine_decay_schedule(\n",
        "            init_value=initial_lr,\n",
        "            peak_value=peak_lr,\n",
        "            warmup_steps=warmup_steps,\n",
        "            decay_steps=num_train_steps,\n",
        "            end_value=end_lr,\n",
        "        ),\n",
        "    ),\n",
        "    # We keep track of an exponential moving average of the model parameters\n",
        "    # over training steps. This alleviates the \"color-shift\" problems known to\n",
        "    # exist in the diffusion models.\n",
        "    ema_decay=ema_decay,\n",
        ")"
      ]
    },
    {
      "cell_type": "markdown",
      "metadata": {
        "id": "WTQf9w1NFgp7"
      },
      "source": [
        "Now we are ready to kick start training. A couple of \"callbacks\" are passed to assist with monitoring and checkpointing.\n",
        "\n",
        "The first step will be a little slow as Jax needs to JIT compile the step function (the same goes for the first step where evaluation is performed). Fortunately, steps after that should continue much faster.\n",
        "\n",
        "Alternatively, feel free to use the `train.py` script in this folder, as it's probably easier to use it in GPUs, which will speed up the training."
      ]
    },
    {
      "cell_type": "code",
      "execution_count": 11,
      "metadata": {
        "id": "lMQbydfdEpxQ"
      },
      "outputs": [
        {
          "name": "stderr",
          "output_type": "stream",
          "text": [
            "  0%|          | 0/100000 [00:00<?, ?step/s]"
          ]
        }
      ],
      "source": [
        "templates.run_train(\n",
        "    train_dataloader=get_mnist_dataset(\n",
        "      file_path=os.path.join(mnist_folder,'train.hdf5'),\n",
        "      key=\"image\",\n",
        "      split=0.75,\n",
        "      batch_size=train_batch_size,\n",
        "    ),\n",
        "    trainer=trainer,\n",
        "    workdir=workdir,\n",
        "    total_train_steps=num_train_steps,\n",
        "    metric_writer=metric_writers.create_default_writer(\n",
        "        workdir, asynchronous=False\n",
        "    ),\n",
        "    metric_aggregation_steps=100,\n",
        "    eval_dataloader=get_mnist_dataset(\n",
        "      file_path=os.path.join(mnist_folder,'train.hdf5'),\n",
        "      key=\"image\",\n",
        "      split=-0.25,\n",
        "      batch_size=train_batch_size,\n",
        "    ),\n",
        "    eval_every_steps = 1000,\n",
        "    num_batches_per_eval = 2,\n",
        "    callbacks=(\n",
        "        # This callback displays the training progress in a tqdm bar\n",
        "        templates.TqdmProgressBar(\n",
        "            total_train_steps=num_train_steps,\n",
        "            train_monitors=(\"train_loss\",),\n",
        "        ),\n",
        "        # This callback saves model checkpoint periodically\n",
        "        templates.TrainStateCheckpoint(\n",
        "            base_dir=workdir,\n",
        "            options=ocp.CheckpointManagerOptions(\n",
        "                save_interval_steps=ckpt_interval, max_to_keep=max_ckpt_to_keep\n",
        "            ),\n",
        "        ),\n",
        "    ),\n",
        ")"
      ]
    },
    {
      "cell_type": "markdown",
      "metadata": {
        "id": "nJDsoPMcFnJ0"
      },
      "source": [
        "### Inference"
      ]
    },
    {
      "cell_type": "markdown",
      "metadata": {
        "id": "tGPHjX8bFqrX"
      },
      "source": [
        "#### Unconditional generation"
      ]
    },
    {
      "cell_type": "markdown",
      "metadata": {
        "id": "wUHa793NF0AS"
      },
      "source": [
        "After training is complete, the trained denoiser may be used to generate unconditional samples.\n",
        "\n",
        "First, let's restore the model from checkpoint."
      ]
    },
    {
      "cell_type": "code",
      "execution_count": 12,
      "metadata": {
        "id": "z-CbKOV9EpvI"
      },
      "outputs": [
        {
          "name": "stderr",
          "output_type": "stream",
          "text": [
            "WARNING:absl:`StandardCheckpointHandler` expects a target tree to be provided for restore. Not doing so is generally UNSAFE unless you know the present topology to be the same one as the checkpoint was saved under.\n"
          ]
        }
      ],
      "source": [
        "# Restore train state from checkpoint. By default, the move recently saved\n",
        "# checkpoint is restored. Alternatively, one can directly use\n",
        "# `trainer.train_state` if continuing from the training section above.\n",
        "trained_state = dfn.DenoisingModelTrainState.restore_from_orbax_ckpt(\n",
        "    f\"{workdir}/checkpoints\", step=None\n",
        ")\n",
        "# Construct the inference function\n",
        "denoise_fn = dfn.DenoisingTrainer.inference_fn_from_state_dict(\n",
        "    trained_state, use_ema=True, denoiser=denoiser_model\n",
        ")"
      ]
    },
    {
      "cell_type": "markdown",
      "metadata": {
        "id": "nT2c5b6FF9jP"
      },
      "source": [
        "Diffusion samples are generated by plugging the trained denoising function in a stochastic differential equation (parametrized by the diffusion scheme) and solving it backwards in time. The added custom sampler allows one to start from a given sample, noise it up with the forward SDE and then denoise with the corresponding backward SDE. This is advantageous if you want to denoise from a given \"custom\" level which doesn't errase the original image completely - this can be controlled with the `clip_max` argument. "
      ]
    },
    {
      "cell_type": "code",
      "execution_count": 14,
      "metadata": {
        "id": "wiOByVtjEpUs"
      },
      "outputs": [],
      "source": [
        "new_diffusion_scheme = dfn_lib.Diffusion.create_variance_exploding(\n",
        "    sigma=dfn_lib.tangent_noise_schedule(clip_max=2),\n",
        "    data_std=DATA_STD,\n",
        ")\n",
        "\n",
        "sampler = dfn_lib.SdeCustomSampler(\n",
        "    input_shape=(28, 28, 1),\n",
        "    integrator=solver_lib.EulerMaruyama(),\n",
        "    tspan=dfn_lib.edm_noise_decay(\n",
        "        diffusion_scheme, rho=7, num_steps=256, end_sigma=1e-3,\n",
        "    ),\n",
        "    scheme=new_diffusion_scheme,\n",
        "    denoise_fn=denoise_fn,\n",
        "    guidance_transforms=(),\n",
        "    apply_denoise_at_end=True,\n",
        "    return_full_paths=False,  # Set to `True` if the full sampling paths are needed\n",
        ")"
      ]
    },
    {
      "cell_type": "markdown",
      "metadata": {
        "id": "nA26cPp0GBwC"
      },
      "source": [
        "The sampler may be run by calling its `.generate()` function. Optionally, we may JIT compile this function so that it runs faster if repeatedly called."
      ]
    },
    {
      "cell_type": "code",
      "execution_count": 15,
      "metadata": {
        "id": "K7yaiI7NF_61"
      },
      "outputs": [],
      "source": [
        "generate = jax.jit(sampler.generate, static_argnames=('num_samples',))"
      ]
    },
    {
      "cell_type": "code",
      "execution_count": 17,
      "metadata": {
        "id": "_qUxgUaKGENj"
      },
      "outputs": [],
      "source": [
        "test_ds = get_mnist_dataset(\n",
        "      file_path=os.path.join(mnist_folder,'test.hdf5'),\n",
        "      key=\"image\",\n",
        "      split=1,\n",
        "      batch_size=1,\n",
        ")\n",
        "samples = generate(\n",
        "  init_sample=next(iter(test_ds))[\"x\"][0,...],\n",
        "  rng=jax.random.PRNGKey(8888), num_samples=4\n",
        ")"
      ]
    },
    {
      "cell_type": "code",
      "execution_count": 21,
      "metadata": {},
      "outputs": [
        {
          "data": {
            "text/plain": [
              "(28, 28, 1)"
            ]
          },
          "execution_count": 21,
          "metadata": {},
          "output_type": "execute_result"
        }
      ],
      "source": [
        "next(iter(test_ds))[\"x\"].shape[1:]"
      ]
    },
    {
      "cell_type": "markdown",
      "metadata": {
        "id": "JTjpNNHtGH9c"
      },
      "source": [
        "Visualize the generated samples:"
      ]
    },
    {
      "cell_type": "code",
      "execution_count": 18,
      "metadata": {
        "id": "thhRfIe5GELQ"
      },
      "outputs": [
        {
          "data": {
            "image/png": "[encoded data removed]",
            "text/plain": [
              "<Figure size 800x200 with 4 Axes>"
            ]
          },
          "metadata": {},
          "output_type": "display_data"
        }
      ],
      "source": [
        "# Plot generated samples\n",
        "fig, ax = plt.subplots(1, 4, figsize=(8, 2))\n",
        "for i in range(4):\n",
        "  im = ax[i].imshow(samples[i, :, :, 0] * 255, cmap=\"gray\", vmin=0, vmax=255)\n",
        "\n",
        "plt.tight_layout()\n",
        "plt.show()"
      ]
    },
    {
      "cell_type": "markdown",
      "metadata": {
        "id": "4Cr6J3hfGLi7"
      },
      "source": [
        "#### Guided generation"
      ]
    },
    {
      "cell_type": "markdown",
      "metadata": {
        "id": "p8-3Hr5IGReH"
      },
      "source": [
        "To achieve 'guided' generation, we can modify a trained denoising function and tailor it to produce samples with specific desired characteristics. For instance, in an out-filling task where the goal is to generate full images from a given patch, we can guide the denoiser to create samples whose crops at certain positions precisely align with the provided patch."
      ]
    },
    {
      "cell_type": "code",
      "execution_count": 23,
      "metadata": {
        "id": "z7P4li0qGEI4"
      },
      "outputs": [],
      "source": [
        "guidance_fn = dfn_lib.InfillFromSlices(\n",
        "    # This specifies location of the guide input using python slices.\n",
        "    # Here it implies that the guide input corresponds the 7x7 patch in the\n",
        "    # center of the image.\n",
        "    # slices=(slice(None), slice(11, 18), slice(11, 18)),\n",
        "    slices=(slice(None), slice(0, -1), slice(0, -1)),\n",
        "\n",
        "    # This is a parameter that controls how \"hard\" the denoiser pushes for\n",
        "    # the conditioning to be satisfied. It is a tradeoff between strictness of\n",
        "    # constraint satisfication and diversity in the generated samples.\n",
        "    guide_strength=0.1,\n",
        ")\n",
        "\n",
        "guidance_fn2 = dfn_lib.AlphaBlendedGuidance(final_alpha=0.1)"
      ]
    },
    {
      "cell_type": "markdown",
      "metadata": {
        "id": "5D5zBynzGUdY"
      },
      "source": [
        "This transform function is passed through the `guidance_transforms` arg of the sampler."
      ]
    },
    {
      "cell_type": "code",
      "execution_count": 24,
      "metadata": {
        "id": "C_kJnXqjGEGz"
      },
      "outputs": [],
      "source": [
        "guided_sampler = dfn_lib.SdeSampler(\n",
        "    input_shape=(28, 28, 1),\n",
        "    integrator=solver_lib.EulerMaruyama(),\n",
        "    tspan=dfn_lib.edm_noise_decay(\n",
        "        diffusion_scheme, rho=7, num_steps=256, end_sigma=1e-3,\n",
        "    ),\n",
        "    scheme=diffusion_scheme,\n",
        "    denoise_fn=denoise_fn,\n",
        "    guidance_transforms=(guidance_fn2,),\n",
        "    apply_denoise_at_end=True,\n",
        "    return_full_paths=False,\n",
        ")\n",
        "\n",
        "guided_generate = jax.jit(guided_sampler.generate, static_argnames=('num_samples',))"
      ]
    },
    {
      "cell_type": "markdown",
      "metadata": {
        "id": "vcDPFQ9PGX9-"
      },
      "source": [
        "We construct an example guidance input from a real sample and use it to guide the sampling:"
      ]
    },
    {
      "cell_type": "code",
      "execution_count": 25,
      "metadata": {
        "id": "D5Uap93nGEEx"
      },
      "outputs": [
        {
          "name": "stderr",
          "output_type": "stream",
          "text": [
            "2024-08-01 11:02:48.374799: W tensorflow/core/kernels/data/cache_dataset_ops.cc:913] The calling iterator did not fully read the dataset being cached. In order to avoid unexpected truncation of the dataset, the partially cached contents of the dataset  will be discarded. This can happen if you have an input pipeline similar to `dataset.cache().take(k).repeat()`. You should use `dataset.take(k).cache().repeat()` instead.\n"
          ]
        }
      ],
      "source": [
        "test_ds = get_mnist_dataset(split=\"test\", batch_size=1)\n",
        "test_example = next(iter(test_ds))[\"x\"]\n",
        "example_guidance_inputs = {'original_image': test_example}"
      ]
    },
    {
      "cell_type": "code",
      "execution_count": 27,
      "metadata": {
        "id": "kdUrseQOGECo"
      },
      "outputs": [
        {
          "name": "stdout",
          "output_type": "stream",
          "text": [
            "Traced<ShapedArray(float32[])>with<DynamicJaxprTrace(level=2/0)>\n",
            "Traced<ShapedArray(float32[])>with<DynamicJaxprTrace(level=1/0)>\n"
          ]
        }
      ],
      "source": [
        "guided_samples = guided_generate(\n",
        "  rng=jax.random.PRNGKey(66),\n",
        "  num_samples=4,\n",
        "  # Note that the shape of the guidance input must be compatible with\n",
        "  # `sample[guidance_fn.slices]`\n",
        "  guidance_inputs=example_guidance_inputs,\n",
        ")"
      ]
    },
    {
      "cell_type": "markdown",
      "metadata": {
        "id": "auf-UA3yGew-"
      },
      "source": [
        "Visualize guided samples:"
      ]
    },
    {
      "cell_type": "code",
      "execution_count": 28,
      "metadata": {
        "id": "72jBzmTCGEAg"
      },
      "outputs": [
        {
          "data": {
            "image/png": "[encoded data removed]",
            "text/plain": [
              "<Figure size 200x200 with 1 Axes>"
            ]
          },
          "metadata": {},
          "output_type": "display_data"
        },
        {
          "data": {
            "image/png": "[encoded data removed]",
            "text/plain": [
              "<Figure size 800x200 with 4 Axes>"
            ]
          },
          "metadata": {},
          "output_type": "display_data"
        }
      ],
      "source": [
        "# Plot guide patch.\n",
        "fig, ax = plt.subplots(1, 1, figsize=(2, 2))\n",
        "im = ax.imshow(\n",
        "    test_example[0, 0:-1, 0:-1, 0] * 255, cmap=\"gray\", vmin=0, vmax=255\n",
        ")\n",
        "ax.axis(\"off\")\n",
        "ax.set_title(\"Guide patch\")\n",
        "plt.tight_layout()\n",
        "plt.show()\n",
        "\n",
        "# Plot generated samples.\n",
        "fig, ax = plt.subplots(1, 4, figsize=(8, 2))\n",
        "for i in range(4):\n",
        "  im = ax[i].imshow(\n",
        "      guided_samples[i, :, :, 0] * 255, cmap=\"gray\", vmin=0, vmax=255\n",
        "  )\n",
        "  # # Mark out the patch where guidance is enabled.\n",
        "  # square = patches.Rectangle(\n",
        "  #     xy=(0, 0), width=27, height=27, fill=False, edgecolor='red'\n",
        "  # )\n",
        "  # ax[i].add_patch(square)\n",
        "  # ax[i].axis(\"off\")\n",
        "  # ax[i].set_title(f\"Sample #{i}\")\n",
        "\n",
        "plt.tight_layout()\n",
        "plt.show()"
      ]
    }
  ],
  "metadata": {
    "colab": {
      "gpuType": "A100",
      "last_runtime": {
        "build_target": "//learning/grp/tools/ml_python:ml_notebook",
        "kind": "private"
      },
      "private_outputs": true,
      "provenance": [
        {
          "file_id": "1eA8hF0r-tUgIX-miyPgPkzH80WjzCarp",
          "timestamp": 1707268348992
        }
      ],
      "toc_visible": true
    },
    "kernelspec": {
      "display_name": "venv",
      "language": "python",
      "name": "python3"
    },
    "language_info": {
      "codemirror_mode": {
        "name": "ipython",
        "version": 3
      },
      "file_extension": ".py",
      "mimetype": "text/x-python",
      "name": "python",
      "nbconvert_exporter": "python",
      "pygments_lexer": "ipython3",
      "version": "3.11.6"
    }
  },
  "nbformat": 4,
  "nbformat_minor": 0
}
